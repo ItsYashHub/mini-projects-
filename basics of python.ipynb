{
 "cells": [
  {
   "cell_type": "code",
   "execution_count": 1,
   "id": "defb0caf-c2a6-4dcd-bd9e-3d62ff212490",
   "metadata": {},
   "outputs": [
    {
     "name": "stdout",
     "output_type": "stream",
     "text": [
      "yash is saying hello to python\n"
     ]
    }
   ],
   "source": [
    "print ( \"yash is saying hello to python\")    "
   ]
  },
  {
   "cell_type": "markdown",
   "id": "b914aab8-7e09-4d8f-8170-0f481210058f",
   "metadata": {},
   "source": [
    " ## variable adding "
   ]
  },
  {
   "cell_type": "code",
   "execution_count": 6,
   "id": "880e472a-36b6-495d-a7a8-33d319fbd5b4",
   "metadata": {},
   "outputs": [],
   "source": [
    "age =50   # age is a variable"
   ]
  },
  {
   "cell_type": "code",
   "execution_count": 10,
   "id": "ae822554-814d-4ddf-82fd-da6f51dda9c5",
   "metadata": {},
   "outputs": [
    {
     "name": "stdout",
     "output_type": "stream",
     "text": [
      "50\n"
     ]
    }
   ],
   "source": [
    "print( age )     # print a value of variable"
   ]
  },
  {
   "cell_type": "markdown",
   "id": "a8bfacf7-61b9-45ed-9e8a-8bd63cfedb0f",
   "metadata": {},
   "source": [
    "## input function "
   ]
  },
  {
   "cell_type": "code",
   "execution_count": 1,
   "id": "f22c8d17-8b14-4928-a87e-6dbf7ef742f3",
   "metadata": {},
   "outputs": [
    {
     "name": "stdin",
     "output_type": "stream",
     "text": [
      " what is your name ?  yash\n"
     ]
    }
   ],
   "source": [
    "name = input (\" what is your name ? \")"
   ]
  },
  {
   "cell_type": "code",
   "execution_count": 5,
   "id": "478b2a93-a391-41ca-bb5a-372bee0c0c1a",
   "metadata": {},
   "outputs": [
    {
     "name": "stdin",
     "output_type": "stream",
     "text": [
      "what is your name ? yash\n"
     ]
    },
    {
     "name": "stdout",
     "output_type": "stream",
     "text": [
      "helloyash\n"
     ]
    }
   ],
   "source": [
    "name = input (\"what is your name ?\")\n",
    "print(\"hello\"+ name )"
   ]
  },
  {
   "cell_type": "markdown",
   "id": "43b831f4-7347-45cd-bc2f-8c5a49e0d256",
   "metadata": {},
   "source": [
    "## type of conversation \n"
   ]
  },
  {
   "cell_type": "code",
   "execution_count": 18,
   "id": "0f298ff8-4575-4f63-8ac7-2b3fd84951dd",
   "metadata": {},
   "outputs": [
    {
     "name": "stdin",
     "output_type": "stream",
     "text": [
      "enter the number of year you born 2003\n"
     ]
    },
    {
     "name": "stdout",
     "output_type": "stream",
     "text": [
      "21\n"
     ]
    }
   ],
   "source": [
    "birthyear= input(\"enter the number of year you born\")\n",
    "age =2024 -int (birthyear)\n",
    "print (age)"
   ]
  },
  {
   "cell_type": "markdown",
   "id": "85f5879d-2f75-428b-8e6d-6461bdd4bbc6",
   "metadata": {},
   "source": [
    "## calculator\n"
   ]
  },
  {
   "cell_type": "code",
   "execution_count": 9,
   "id": "093d1ed6-764a-4091-96bb-41dcde845524",
   "metadata": {},
   "outputs": [
    {
     "name": "stdin",
     "output_type": "stream",
     "text": [
      "first: 40.2\n",
      "second: 30.2\n"
     ]
    },
    {
     "name": "stdout",
     "output_type": "stream",
     "text": [
      "sum:70.4\n"
     ]
    }
   ],
   "source": [
    "first = float(input (\"first:\"))\n",
    "second = float(input (\"second:\"))\n",
    "sum = first + second\n",
    "print(\"sum:\" + str (sum))"
   ]
  },
  {
   "cell_type": "code",
   "execution_count": 11,
   "id": "c6d6df64-a1e3-4a39-bb9e-e707b0e43af3",
   "metadata": {},
   "outputs": [
    {
     "name": "stdin",
     "output_type": "stream",
     "text": [
      "first: 40\n",
      "second: 30\n"
     ]
    },
    {
     "name": "stdout",
     "output_type": "stream",
     "text": [
      "sum:70\n"
     ]
    }
   ],
   "source": [
    "first = int(input (\"first:\"))\n",
    "second = int(input (\"second:\"))\n",
    "sum = first + second\n",
    "print(\"sum:\" + str (sum))"
   ]
  },
  {
   "cell_type": "code",
   "execution_count": 21,
   "id": "85b5ffdb-72c8-484b-9f34-df943131e65c",
   "metadata": {},
   "outputs": [
    {
     "name": "stdin",
     "output_type": "stream",
     "text": [
      "first: 20\n",
      "second: 30\n"
     ]
    },
    {
     "name": "stdout",
     "output_type": "stream",
     "text": [
      "sum:-10\n"
     ]
    }
   ],
   "source": [
    "first = int(input (\"first:\"))\n",
    "second = int(input (\"second:\"))\n",
    "sum = first - second\n",
    "print(\"sum:\"+ str (sum))"
   ]
  },
  {
   "cell_type": "code",
   "execution_count": 23,
   "id": "50b5c45d-b4e1-4f76-a476-10ce861d3d09",
   "metadata": {},
   "outputs": [
    {
     "name": "stdin",
     "output_type": "stream",
     "text": [
      "first: 30\n",
      "second: 20\n"
     ]
    },
    {
     "name": "stdout",
     "output_type": "stream",
     "text": [
      "sum:600\n"
     ]
    }
   ],
   "source": [
    "first = int(input (\"first:\"))\n",
    "second = int(input (\"second:\"))\n",
    "sum = first * second\n",
    "print(\"sum:\"+ str (sum))"
   ]
  },
  {
   "cell_type": "code",
   "execution_count": 25,
   "id": "2633ec32-f129-49f4-9fd2-ccc4c30f8cad",
   "metadata": {},
   "outputs": [
    {
     "name": "stdin",
     "output_type": "stream",
     "text": [
      "first: 30\n",
      "second: 56\n"
     ]
    },
    {
     "name": "stdout",
     "output_type": "stream",
     "text": [
      "sum:30\n"
     ]
    }
   ],
   "source": [
    "first = int(input (\"first:\"))\n",
    "second = int(input (\"second:\"))\n",
    "sum = first % second\n",
    "print(\"sum:\"+ str (sum))"
   ]
  },
  {
   "cell_type": "code",
   "execution_count": 27,
   "id": "f02d4d97-2bb5-4b9a-9f33-288471fbaceb",
   "metadata": {},
   "outputs": [
    {
     "name": "stdin",
     "output_type": "stream",
     "text": [
      "first: 30\n",
      "second: 3\n"
     ]
    },
    {
     "name": "stdout",
     "output_type": "stream",
     "text": [
      "sum:10.0\n"
     ]
    }
   ],
   "source": [
    "first = int(input (\"first:\"))\n",
    "second = int(input (\"second:\"))\n",
    "sum = first / second\n",
    "print(\"sum:\"+ str (sum))"
   ]
  },
  {
   "cell_type": "markdown",
   "id": "63f74590-a916-4e3e-b1e4-e25985392201",
   "metadata": {},
   "source": [
    "## string \n"
   ]
  },
  {
   "cell_type": "code",
   "execution_count": null,
   "id": "2fd51ebe-23d5-410f-904a-f96fae2ea6f8",
   "metadata": {},
   "outputs": [],
   "source": []
  }
 ],
 "metadata": {
  "kernelspec": {
   "display_name": "Python 3 (ipykernel)",
   "language": "python",
   "name": "python3"
  },
  "language_info": {
   "codemirror_mode": {
    "name": "ipython",
    "version": 3
   },
   "file_extension": ".py",
   "mimetype": "text/x-python",
   "name": "python",
   "nbconvert_exporter": "python",
   "pygments_lexer": "ipython3",
   "version": "3.12.4"
  }
 },
 "nbformat": 4,
 "nbformat_minor": 5
}
