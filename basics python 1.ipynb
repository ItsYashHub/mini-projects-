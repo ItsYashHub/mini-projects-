{
 "cells": [
  {
   "cell_type": "markdown",
   "id": "f312e2f6-cd26-482a-aead-a518c027201d",
   "metadata": {},
   "source": [
    "## string "
   ]
  },
  {
   "cell_type": "code",
   "execution_count": 25,
   "id": "e26481b3-e679-444f-a9b8-fcc6b5b3f601",
   "metadata": {},
   "outputs": [
    {
     "name": "stdout",
     "output_type": "stream",
     "text": [
      "True\n"
     ]
    }
   ],
   "source": [
    "course = ' python for beginners '\n",
    "print('python' in course)"
   ]
  },
  {
   "cell_type": "markdown",
   "id": "2bac0dfa-ab52-4034-b4c9-a55b935c8d96",
   "metadata": {},
   "source": [
    "## operations "
   ]
  },
  {
   "cell_type": "code",
   "execution_count": 10,
   "id": "cb9fef1e-3877-4370-b822-02cf0931d402",
   "metadata": {},
   "outputs": [
    {
     "name": "stdout",
     "output_type": "stream",
     "text": [
      "False\n"
     ]
    }
   ],
   "source": [
    "X= 3 < 2\n",
    "print(X)"
   ]
  },
  {
   "cell_type": "code",
   "execution_count": 12,
   "id": "08d8e4a1-a148-4ee3-8328-ed3a99f855b1",
   "metadata": {},
   "outputs": [
    {
     "name": "stdout",
     "output_type": "stream",
     "text": [
      "False\n"
     ]
    }
   ],
   "source": [
    "X= 3 == 2\n",
    "print(X)"
   ]
  },
  {
   "cell_type": "code",
   "execution_count": 14,
   "id": "fd8f0976-42cb-4430-bf87-ecc48e4ea5ee",
   "metadata": {},
   "outputs": [
    {
     "name": "stdout",
     "output_type": "stream",
     "text": [
      "True\n"
     ]
    }
   ],
   "source": [
    "X= 3 == 3\n",
    "print(X)"
   ]
  },
  {
   "cell_type": "code",
   "execution_count": 16,
   "id": "3b6c82d8-b514-483a-8360-d55ce66cb24c",
   "metadata": {},
   "outputs": [
    {
     "name": "stdout",
     "output_type": "stream",
     "text": [
      "True\n"
     ]
    }
   ],
   "source": [
    "X= 3 >= 2\n",
    "print(X)"
   ]
  },
  {
   "cell_type": "code",
   "execution_count": 18,
   "id": "b6031e6a-b880-4e96-a560-0ab5023865c7",
   "metadata": {},
   "outputs": [
    {
     "name": "stdout",
     "output_type": "stream",
     "text": [
      "False\n"
     ]
    }
   ],
   "source": [
    "X= 3 <= 2\n",
    "print(X)"
   ]
  },
  {
   "cell_type": "code",
   "execution_count": 22,
   "id": "820a6d05-c106-43a0-af83-0162c90e9901",
   "metadata": {},
   "outputs": [
    {
     "name": "stdout",
     "output_type": "stream",
     "text": [
      "True\n"
     ]
    }
   ],
   "source": [
    "X= 3 != 2\n",
    "print(X)"
   ]
  },
  {
   "cell_type": "markdown",
   "id": "51b0f412-6dad-4c9a-a5b2-b417e3aa9ebf",
   "metadata": {},
   "source": [
    "##  logical operator "
   ]
  },
  {
   "cell_type": "code",
   "execution_count": null,
   "id": "7b4c6586-965b-4063-a3eb-9c42e6633df9",
   "metadata": {},
   "outputs": [],
   "source": [
    "## there are total 3 main operator \n",
    "# 1 and \n",
    "# 2 or \n",
    "# 3 not"
   ]
  },
  {
   "cell_type": "code",
   "execution_count": 30,
   "id": "dbef4e2f-4ba5-4fe3-b806-4eba281268e2",
   "metadata": {},
   "outputs": [
    {
     "name": "stdout",
     "output_type": "stream",
     "text": [
      "False\n"
     ]
    }
   ],
   "source": [
    "price = 5\n",
    "print(price > 10 and price < 30 )"
   ]
  },
  {
   "cell_type": "code",
   "execution_count": 32,
   "id": "749dc4f9-f2f9-468f-853f-7f8da67690a0",
   "metadata": {},
   "outputs": [
    {
     "name": "stdout",
     "output_type": "stream",
     "text": [
      "True\n"
     ]
    }
   ],
   "source": [
    "price = 5\n",
    "print(price > 10 or price < 30 )"
   ]
  },
  {
   "cell_type": "code",
   "execution_count": 38,
   "id": "e044fb5d-a623-4618-8773-96e9e6b45e0f",
   "metadata": {},
   "outputs": [
    {
     "name": "stdout",
     "output_type": "stream",
     "text": [
      "True\n"
     ]
    }
   ],
   "source": [
    "price = 5\n",
    "print( not price > 30 )"
   ]
  },
  {
   "cell_type": "code",
   "execution_count": null,
   "id": "21b39486-63c8-48ea-a7aa-beb6bf110ae7",
   "metadata": {},
   "outputs": [],
   "source": []
  }
 ],
 "metadata": {
  "kernelspec": {
   "display_name": "Python 3 (ipykernel)",
   "language": "python",
   "name": "python3"
  },
  "language_info": {
   "codemirror_mode": {
    "name": "ipython",
    "version": 3
   },
   "file_extension": ".py",
   "mimetype": "text/x-python",
   "name": "python",
   "nbconvert_exporter": "python",
   "pygments_lexer": "ipython3",
   "version": "3.12.4"
  }
 },
 "nbformat": 4,
 "nbformat_minor": 5
}
